{
 "cells": [
  {
   "cell_type": "code",
   "execution_count": 8,
   "metadata": {
    "collapsed": true
   },
   "outputs": [],
   "source": [
    "import numpy as np\n",
    "import scipy.io.wavfile as wav\n",
    "from matplotlib import pyplot as plt\n",
    "import IPython.display as ipd\n",
    "import IPython\n",
    "import librosa\n",
    "import pyaudio\n",
    "import wave\n",
    "import speech_recognition as sr\n",
    "import random\n",
    "import click"
   ]
  },
  {
   "cell_type": "code",
   "execution_count": 9,
   "metadata": {},
   "outputs": [],
   "source": [
    "CHUNK = 1024\n",
    "FORMAT = pyaudio.paInt16\n",
    "CHANNELS = 2\n",
    "RATE = 44100\n",
    "RECORD_SECONDS = 5\n",
    "WAVE_OUTPUT_FILENAME = \"output.wav\"\n",
    "\n",
    "def recording_now():\n",
    "    p = pyaudio.PyAudio()\n",
    "    stream = p.open(format=FORMAT, channels=CHANNELS, rate=RATE, input=True, frames_per_buffer=CHUNK)\n",
    "\n",
    "    print(\"* recording\")\n",
    "\n",
    "    frames = []\n",
    "\n",
    "    for i in range(0, int(RATE / CHUNK * RECORD_SECONDS)):\n",
    "        data = stream.read(CHUNK)\n",
    "        frames.append(data)\n",
    "\n",
    "    print(\"* done recording\")\n",
    "    stream.stop_stream()\n",
    "    stream.close()\n",
    "    p.terminate()\n",
    "    wf = wave.open(WAVE_OUTPUT_FILENAME, 'wb')\n",
    "    wf.setnchannels(CHANNELS)\n",
    "    wf.setsampwidth(p.get_sample_size(FORMAT))\n",
    "    wf.setframerate(RATE)\n",
    "    wf.writeframes(b''.join(frames))\n",
    "    wf.close()"
   ]
  },
  {
   "cell_type": "code",
   "execution_count": 10,
   "metadata": {},
   "outputs": [],
   "source": [
    "def random_int(min, max):\n",
    "    x = random.random()\n",
    "    y = 1.0 / (max - min)\n",
    "    z = int(x // y)\n",
    "    return min + z\n",
    "\n",
    "def random_permutation(array):\n",
    "    length = len(array)\n",
    "    for i in range(length):\n",
    "        b = random_int(i, length)\n",
    "        array[i], array[b] = array[b], array[i]"
   ]
  },
  {
   "cell_type": "code",
   "execution_count": 11,
   "metadata": {},
   "outputs": [],
   "source": [
    "def detect():\n",
    "    r = sr.Recognizer()\n",
    "    output = sr.AudioFile('output.wav')\n",
    "    with output as source:\n",
    "        audio = r.listen(source)\n",
    "    try:\n",
    "        return r.recognize_google(audio)\n",
    "    except sr.UnknownValueError:\n",
    "        return \"(Could not understand audio)\"\n",
    "    except sr.RequestError as e:\n",
    "        return \"Error; {0}\".format(e)"
   ]
  },
  {
   "cell_type": "code",
   "execution_count": 14,
   "metadata": {},
   "outputs": [
    {
     "name": "stdout",
     "output_type": "stream",
     "text": [
      "\n",
      "\n",
      "You now pronounce two words: she and see\n",
      "First, you say: she\n",
      "* recording\n",
      "* done recording\n",
      "You have said she\n",
      "It is CORRECT!\n",
      "Second, you say: see\n",
      "* recording\n",
      "* done recording\n",
      "You have said see\n",
      "It is CORRECT!\n",
      "\n",
      "\n",
      "You now pronounce two words: sheep and ship\n",
      "First, you say: sheep\n",
      "* recording\n",
      "* done recording\n",
      "You have said shape\n",
      "Unfornately, it is INCORRECT!\n",
      "Second, you say: ship\n",
      "* recording\n",
      "* done recording\n",
      "You have said check\n",
      "Unfornately, it is INCORRECT!\n",
      "\n",
      "\n",
      "You pronounce correctly 2 out of 4\n",
      "Your score is 100.0\n"
     ]
    }
   ],
   "source": [
    "games = [[\"sheep\", \"ship\"], [\"eat\", \"it\"], [\"she\", \"see\"], [\"there\", \"dare\"], [\"president\", \"precedent\"]]\n",
    "random_permutation(games)\n",
    "count = 0\n",
    "\n",
    "for i in games[:2]:\n",
    "    print(\"\\n\")\n",
    "    print(\"You now pronounce two words:\", i[0], \"and\", i[1])\n",
    "    for j in range(2):\n",
    "        if (j == 0):\n",
    "            print(\"First, you say:\", i[0])\n",
    "        else:\n",
    "            print(\"Second, you say:\", i[1])\n",
    "        recording_now()\n",
    "        res = detect()\n",
    "        print(\"You have said\", res)\n",
    "        if (res == i[j]):\n",
    "            print(\"It is CORRECT!\")\n",
    "            count += 1\n",
    "        else:\n",
    "            print(\"Unfornately, it is INCORRECT!\")\n",
    "\n",
    "print(\"\\n\")\n",
    "print(\"You pronounce correctly\", count, \"out of\", len(games[:2]) * 2)\n",
    "print(\"Your score is\", count / len(games[:2]) * 100)"
   ]
  },
  {
   "cell_type": "code",
   "execution_count": null,
   "metadata": {},
   "outputs": [],
   "source": []
  }
 ],
 "metadata": {
  "kernelspec": {
   "display_name": "Python 3",
   "language": "python",
   "name": "python3"
  },
  "language_info": {
   "codemirror_mode": {
    "name": "ipython",
    "version": 3
   },
   "file_extension": ".py",
   "mimetype": "text/x-python",
   "name": "python",
   "nbconvert_exporter": "python",
   "pygments_lexer": "ipython3",
   "version": "3.6.4"
  }
 },
 "nbformat": 4,
 "nbformat_minor": 2
}
